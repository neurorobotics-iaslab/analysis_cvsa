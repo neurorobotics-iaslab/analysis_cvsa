{
 "cells": [
  {
   "cell_type": "code",
   "execution_count": 1,
   "metadata": {},
   "outputs": [],
   "source": [
    "import numpy as np\n",
    "import matplotlib.pyplot as plt\n",
    "from sklearn.svm import OneClassSVM\n",
    "from sklearn.model_selection import GridSearchCV, train_test_split\n",
    "from sklearn.datasets import make_blobs\n",
    "from sklearn.metrics import make_scorer, accuracy_score\n",
    "from scipy.io import loadmat"
   ]
  },
  {
   "cell_type": "code",
   "execution_count": 2,
   "metadata": {},
   "outputs": [],
   "source": [
    "def fix_mat(data):\n",
    "    if data.dtype.names:\n",
    "        new_data = dict()\n",
    "        for name in data.dtype.names:\n",
    "            new_data[name]=data[0][name][0]\n",
    "        for k,v in new_data.items():\n",
    "            if v.dtype.names:\n",
    "                new_data[k] = fix_mat(v)\n",
    "            else:\n",
    "                new_data[k] = np.squeeze(v)\n",
    "        return new_data\n",
    "    else:\n",
    "        return data"
   ]
  },
  {
   "cell_type": "code",
   "execution_count": 44,
   "metadata": {},
   "outputs": [],
   "source": [
    "path = '/home/paolo/cvsa_ws/src/analysis_cvsa/detectShift/set_814.mat'\n",
    "#path = '/home/paolo/cvsa_ws/src/analysis_cvsa/detectShift/set_features.mat'\n",
    "dataset = loadmat(path)\n",
    "\n",
    "#fix_data = fix_mat(dataset['fix_samples'])\n",
    "#cf_data = fix_mat(dataset['cf_samples'])\n",
    "fix_data = fix_mat(dataset['fix_814'])\n",
    "cf_data = fix_mat(dataset['cf_814'])\n",
    "\n",
    "cf_info = fix_mat(dataset['cf_info'])\n",
    "fix_info = fix_mat(dataset['fix_info'])\n",
    "typ = fix_mat(dataset['typ'])\n",
    "\n"
   ]
  },
  {
   "cell_type": "code",
   "execution_count": 45,
   "metadata": {},
   "outputs": [],
   "source": [
    "percentual_train = 0.75\n",
    "X_train = fix_data[:int(fix_data.shape[0] * percentual_train),:]\n",
    "X_test  = fix_data[int(fix_data.shape[0] * percentual_train):,:]\n",
    "\n",
    "y_train = np.ones((X_train.shape[0], 1))"
   ]
  },
  {
   "cell_type": "code",
   "execution_count": 46,
   "metadata": {},
   "outputs": [
    {
     "name": "stdout",
     "output_type": "stream",
     "text": [
      "Fitting 5 folds for each of 8 candidates, totalling 40 fits\n",
      "[CV 1/5] END ...............gamma=scale, nu=0.1;, score=0.833 total time=   0.1s\n",
      "[CV 2/5] END ...............gamma=scale, nu=0.1;, score=0.969 total time=   0.0s\n",
      "[CV 3/5] END ...............gamma=scale, nu=0.1;, score=0.714 total time=   0.0s\n",
      "[CV 4/5] END ...............gamma=scale, nu=0.1;, score=0.945 total time=   0.0s\n",
      "[CV 5/5] END ...............gamma=scale, nu=0.1;, score=0.781 total time=   0.0s\n",
      "[CV 1/5] END ...............gamma=scale, nu=0.2;, score=0.779 total time=   0.1s\n",
      "[CV 2/5] END ...............gamma=scale, nu=0.2;, score=0.904 total time=   0.1s\n",
      "[CV 3/5] END ...............gamma=scale, nu=0.2;, score=0.628 total time=   0.1s\n",
      "[CV 4/5] END ...............gamma=scale, nu=0.2;, score=0.794 total time=   0.1s\n",
      "[CV 5/5] END ...............gamma=scale, nu=0.2;, score=0.664 total time=   0.1s\n",
      "[CV 1/5] END ...............gamma=scale, nu=0.4;, score=0.641 total time=   0.1s\n",
      "[CV 2/5] END ...............gamma=scale, nu=0.4;, score=0.724 total time=   0.1s\n",
      "[CV 3/5] END ...............gamma=scale, nu=0.4;, score=0.432 total time=   0.1s\n",
      "[CV 4/5] END ...............gamma=scale, nu=0.4;, score=0.536 total time=   0.1s\n",
      "[CV 5/5] END ...............gamma=scale, nu=0.4;, score=0.469 total time=   0.1s\n",
      "[CV 1/5] END ...............gamma=scale, nu=0.5;, score=0.552 total time=   0.1s\n",
      "[CV 2/5] END ...............gamma=scale, nu=0.5;, score=0.617 total time=   0.1s\n",
      "[CV 3/5] END ...............gamma=scale, nu=0.5;, score=0.344 total time=   0.1s\n",
      "[CV 4/5] END ...............gamma=scale, nu=0.5;, score=0.432 total time=   0.1s\n",
      "[CV 5/5] END ...............gamma=scale, nu=0.5;, score=0.367 total time=   0.1s\n",
      "[CV 1/5] END ................gamma=auto, nu=0.1;, score=0.852 total time=   0.0s\n",
      "[CV 2/5] END ................gamma=auto, nu=0.1;, score=0.971 total time=   0.0s\n",
      "[CV 3/5] END ................gamma=auto, nu=0.1;, score=0.708 total time=   0.0s\n",
      "[CV 4/5] END ................gamma=auto, nu=0.1;, score=0.945 total time=   0.0s\n",
      "[CV 5/5] END ................gamma=auto, nu=0.1;, score=0.781 total time=   0.0s\n",
      "[CV 1/5] END ................gamma=auto, nu=0.2;, score=0.789 total time=   0.1s\n",
      "[CV 2/5] END ................gamma=auto, nu=0.2;, score=0.901 total time=   0.1s\n",
      "[CV 3/5] END ................gamma=auto, nu=0.2;, score=0.633 total time=   0.1s\n",
      "[CV 4/5] END ................gamma=auto, nu=0.2;, score=0.805 total time=   0.1s\n",
      "[CV 5/5] END ................gamma=auto, nu=0.2;, score=0.674 total time=   0.1s\n",
      "[CV 1/5] END ................gamma=auto, nu=0.4;, score=0.643 total time=   0.1s\n",
      "[CV 2/5] END ................gamma=auto, nu=0.4;, score=0.724 total time=   0.1s\n",
      "[CV 3/5] END ................gamma=auto, nu=0.4;, score=0.435 total time=   0.1s\n",
      "[CV 4/5] END ................gamma=auto, nu=0.4;, score=0.544 total time=   0.1s\n",
      "[CV 5/5] END ................gamma=auto, nu=0.4;, score=0.466 total time=   0.1s\n",
      "[CV 1/5] END ................gamma=auto, nu=0.5;, score=0.557 total time=   0.1s\n",
      "[CV 2/5] END ................gamma=auto, nu=0.5;, score=0.622 total time=   0.1s\n",
      "[CV 3/5] END ................gamma=auto, nu=0.5;, score=0.349 total time=   0.1s\n",
      "[CV 4/5] END ................gamma=auto, nu=0.5;, score=0.435 total time=   0.1s\n",
      "[CV 5/5] END ................gamma=auto, nu=0.5;, score=0.370 total time=   0.1s\n",
      "Best Parameters: {'gamma': 'auto', 'nu': 0.1}\n",
      "Best Cross-Validation Score: 0.8515625\n"
     ]
    }
   ],
   "source": [
    "# Define a custom scoring function for One-Class SVM\n",
    "def one_class_svm_score(y_true, y_pred):\n",
    "    \"\"\"\n",
    "    Custom scoring function for One-Class SVM.\n",
    "    Since One-Class SVM labels inliers as 1 and outliers as -1,\n",
    "    we assume all test samples should be inliers (i.e., 1).\n",
    "    \"\"\"\n",
    "    return accuracy_score(y_true, y_pred)\n",
    "\n",
    "scorer = make_scorer(one_class_svm_score)\n",
    "\n",
    "# Set up the parameter grid for cross-validation\n",
    "param_grid = {\n",
    "    'nu': [0.1, 0.2, 0.40, 0.50],        # Fraction of expected outliers\n",
    "    'gamma': ['scale', 'auto']      # Kernel coefficient\n",
    "}\n",
    "\n",
    "# Perform cross-validation using GridSearchCV\n",
    "clf = GridSearchCV(OneClassSVM(kernel='rbf'), param_grid, cv=5, scoring=scorer,  verbose=3)\n",
    "clf.fit(X_train, y_train)\n",
    "\n",
    "# Best parameters and model evaluation\n",
    "print(\"Best Parameters:\", clf.best_params_)\n",
    "print(\"Best Cross-Validation Score:\", clf.best_score_)"
   ]
  },
  {
   "cell_type": "code",
   "execution_count": 47,
   "metadata": {},
   "outputs": [
    {
     "name": "stdout",
     "output_type": "stream",
     "text": [
      "Test Accuracy: 0.884375\n"
     ]
    }
   ],
   "source": [
    "model_svm = OneClassSVM(kernel='rbf', nu=clf.best_params_['nu'], gamma=clf.best_params_['gamma'])\n",
    "model_svm.fit(X_train, y_train)\n",
    "\n",
    "y_pred = model_svm.predict(X_test)\n",
    "y_true = np.ones((X_test.shape[0], 1))\n",
    "print(\"Test Accuracy:\", accuracy_score(y_true, y_pred))"
   ]
  },
  {
   "cell_type": "code",
   "execution_count": 48,
   "metadata": {},
   "outputs": [],
   "source": [
    "%matplotlib qt\n",
    "\n",
    "cf_pred = model_svm.predict(cf_data)\n",
    "\n",
    "last_trials = 30\n",
    "fig, axes = plt.subplots(nrows=5, ncols=6, figsize=(15, 10))\n",
    "axes = axes.flatten() \n",
    "sampleRate = 16\n",
    "time_plot = 0.5\n",
    "\n",
    "start_index = cf_info['startEvent'].shape[0] - last_trials\n",
    "\n",
    "for i in range(start_index, cf_info['startEvent'].shape[0]): \n",
    "    c_plot = i - start_index\n",
    "    c_start = cf_info['startEvent'][i]\n",
    "    c_end = cf_info['endEvent'][i] + 1\n",
    "    c_pred = cf_pred[c_start:c_end]\n",
    "    \n",
    "    axes[c_plot].scatter(range(0, c_pred.shape[0], 1), c_pred, s=1)\n",
    "    xticks_ = np.arange(0, c_end-c_start, sampleRate*time_plot)\n",
    "    xticks_ = np.append(xticks_, c_end-c_start)\n",
    "    axes[c_plot].set_xticks(xticks_)\n",
    "    axes[c_plot].set_xticklabels(xticks_/sampleRate)\n",
    "    axes[c_plot].set_ylim(-1.1, 1.1)\n",
    "    axes[c_plot].title.set_text('Trial ' + str(i+1))\n",
    "\n",
    "\n",
    "        \n",
    "plt.show()"
   ]
  },
  {
   "attachments": {},
   "cell_type": "markdown",
   "metadata": {},
   "source": [
    "## LOF"
   ]
  },
  {
   "cell_type": "code",
   "execution_count": 49,
   "metadata": {},
   "outputs": [
    {
     "data": {
      "text/html": [
       "<style>#sk-container-id-2 {color: black;}#sk-container-id-2 pre{padding: 0;}#sk-container-id-2 div.sk-toggleable {background-color: white;}#sk-container-id-2 label.sk-toggleable__label {cursor: pointer;display: block;width: 100%;margin-bottom: 0;padding: 0.3em;box-sizing: border-box;text-align: center;}#sk-container-id-2 label.sk-toggleable__label-arrow:before {content: \"▸\";float: left;margin-right: 0.25em;color: #696969;}#sk-container-id-2 label.sk-toggleable__label-arrow:hover:before {color: black;}#sk-container-id-2 div.sk-estimator:hover label.sk-toggleable__label-arrow:before {color: black;}#sk-container-id-2 div.sk-toggleable__content {max-height: 0;max-width: 0;overflow: hidden;text-align: left;background-color: #f0f8ff;}#sk-container-id-2 div.sk-toggleable__content pre {margin: 0.2em;color: black;border-radius: 0.25em;background-color: #f0f8ff;}#sk-container-id-2 input.sk-toggleable__control:checked~div.sk-toggleable__content {max-height: 200px;max-width: 100%;overflow: auto;}#sk-container-id-2 input.sk-toggleable__control:checked~label.sk-toggleable__label-arrow:before {content: \"▾\";}#sk-container-id-2 div.sk-estimator input.sk-toggleable__control:checked~label.sk-toggleable__label {background-color: #d4ebff;}#sk-container-id-2 div.sk-label input.sk-toggleable__control:checked~label.sk-toggleable__label {background-color: #d4ebff;}#sk-container-id-2 input.sk-hidden--visually {border: 0;clip: rect(1px 1px 1px 1px);clip: rect(1px, 1px, 1px, 1px);height: 1px;margin: -1px;overflow: hidden;padding: 0;position: absolute;width: 1px;}#sk-container-id-2 div.sk-estimator {font-family: monospace;background-color: #f0f8ff;border: 1px dotted black;border-radius: 0.25em;box-sizing: border-box;margin-bottom: 0.5em;}#sk-container-id-2 div.sk-estimator:hover {background-color: #d4ebff;}#sk-container-id-2 div.sk-parallel-item::after {content: \"\";width: 100%;border-bottom: 1px solid gray;flex-grow: 1;}#sk-container-id-2 div.sk-label:hover label.sk-toggleable__label {background-color: #d4ebff;}#sk-container-id-2 div.sk-serial::before {content: \"\";position: absolute;border-left: 1px solid gray;box-sizing: border-box;top: 0;bottom: 0;left: 50%;z-index: 0;}#sk-container-id-2 div.sk-serial {display: flex;flex-direction: column;align-items: center;background-color: white;padding-right: 0.2em;padding-left: 0.2em;position: relative;}#sk-container-id-2 div.sk-item {position: relative;z-index: 1;}#sk-container-id-2 div.sk-parallel {display: flex;align-items: stretch;justify-content: center;background-color: white;position: relative;}#sk-container-id-2 div.sk-item::before, #sk-container-id-2 div.sk-parallel-item::before {content: \"\";position: absolute;border-left: 1px solid gray;box-sizing: border-box;top: 0;bottom: 0;left: 50%;z-index: -1;}#sk-container-id-2 div.sk-parallel-item {display: flex;flex-direction: column;z-index: 1;position: relative;background-color: white;}#sk-container-id-2 div.sk-parallel-item:first-child::after {align-self: flex-end;width: 50%;}#sk-container-id-2 div.sk-parallel-item:last-child::after {align-self: flex-start;width: 50%;}#sk-container-id-2 div.sk-parallel-item:only-child::after {width: 0;}#sk-container-id-2 div.sk-dashed-wrapped {border: 1px dashed gray;margin: 0 0.4em 0.5em 0.4em;box-sizing: border-box;padding-bottom: 0.4em;background-color: white;}#sk-container-id-2 div.sk-label label {font-family: monospace;font-weight: bold;display: inline-block;line-height: 1.2em;}#sk-container-id-2 div.sk-label-container {text-align: center;}#sk-container-id-2 div.sk-container {/* jupyter's `normalize.less` sets `[hidden] { display: none; }` but bootstrap.min.css set `[hidden] { display: none !important; }` so we also need the `!important` here to be able to override the default hidden behavior on the sphinx rendered scikit-learn.org. See: https://github.com/scikit-learn/scikit-learn/issues/21755 */display: inline-block !important;position: relative;}#sk-container-id-2 div.sk-text-repr-fallback {display: none;}</style><div id=\"sk-container-id-2\" class=\"sk-top-container\"><div class=\"sk-text-repr-fallback\"><pre>LocalOutlierFactor(n_neighbors=250, novelty=True)</pre><b>In a Jupyter environment, please rerun this cell to show the HTML representation or trust the notebook. <br />On GitHub, the HTML representation is unable to render, please try loading this page with nbviewer.org.</b></div><div class=\"sk-container\" hidden><div class=\"sk-item\"><div class=\"sk-estimator sk-toggleable\"><input class=\"sk-toggleable__control sk-hidden--visually\" id=\"sk-estimator-id-2\" type=\"checkbox\" checked><label for=\"sk-estimator-id-2\" class=\"sk-toggleable__label sk-toggleable__label-arrow\">LocalOutlierFactor</label><div class=\"sk-toggleable__content\"><pre>LocalOutlierFactor(n_neighbors=250, novelty=True)</pre></div></div></div></div></div>"
      ],
      "text/plain": [
       "LocalOutlierFactor(n_neighbors=250, novelty=True)"
      ]
     },
     "execution_count": 49,
     "metadata": {},
     "output_type": "execute_result"
    }
   ],
   "source": [
    "from sklearn.neighbors import LocalOutlierFactor\n",
    "import math \n",
    "\n",
    "lof = LocalOutlierFactor(n_neighbors=250, novelty=True)\n",
    "lof.fit(X_train)"
   ]
  },
  {
   "cell_type": "code",
   "execution_count": 50,
   "metadata": {},
   "outputs": [],
   "source": [
    "%matplotlib qt\n",
    "\n",
    "cf_pred = lof.predict(cf_data)\n",
    "\n",
    "last_trials = 30\n",
    "fig, axes = plt.subplots(nrows=5, ncols=6, figsize=(15, 10))\n",
    "axes = axes.flatten() \n",
    "sampleRate = 16\n",
    "time_plot = 0.5\n",
    "\n",
    "start_index = cf_info['startEvent'].shape[0] - last_trials\n",
    "\n",
    "for i in range(start_index, cf_info['startEvent'].shape[0]): \n",
    "    c_plot = i - start_index\n",
    "    c_start = cf_info['startEvent'][i]\n",
    "    c_end = cf_info['endEvent'][i] + 1\n",
    "    c_pred = cf_pred[c_start:c_end]\n",
    "    \n",
    "    axes[c_plot].scatter(range(0, c_pred.shape[0], 1), c_pred, s=1)\n",
    "    xticks_ = np.arange(0, c_end-c_start, sampleRate*time_plot)\n",
    "    xticks_ = np.append(xticks_, c_end-c_start)\n",
    "    axes[c_plot].set_xticks(xticks_)\n",
    "    axes[c_plot].set_xticklabels(xticks_/sampleRate)\n",
    "    axes[c_plot].set_ylim(-1.1, 1.1)\n",
    "    axes[c_plot].title.set_text('Trial ' + str(i+1))\n",
    "\n",
    "\n",
    "        \n",
    "plt.show()"
   ]
  },
  {
   "cell_type": "code",
   "execution_count": null,
   "metadata": {},
   "outputs": [],
   "source": []
  }
 ],
 "metadata": {
  "kernelspec": {
   "display_name": "Python 3",
   "language": "python",
   "name": "python3"
  },
  "language_info": {
   "codemirror_mode": {
    "name": "ipython",
    "version": 3
   },
   "file_extension": ".py",
   "mimetype": "text/x-python",
   "name": "python",
   "nbconvert_exporter": "python",
   "pygments_lexer": "ipython3",
   "version": "3.8.10"
  },
  "orig_nbformat": 4
 },
 "nbformat": 4,
 "nbformat_minor": 2
}
