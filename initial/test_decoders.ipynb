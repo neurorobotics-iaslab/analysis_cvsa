{
 "cells": [
  {
   "attachments": {},
   "cell_type": "markdown",
   "metadata": {},
   "source": [
    "## Test the different datasets to check which one is better"
   ]
  },
  {
   "cell_type": "code",
   "execution_count": 91,
   "metadata": {},
   "outputs": [],
   "source": [
    "import numpy as np\n",
    "import matplotlib.pyplot as plt\n",
    "from scipy.io import loadmat\n",
    "from sklearn.discriminant_analysis import QuadraticDiscriminantAnalysis\n",
    "from sklearn.model_selection import cross_val_score\n",
    "from sklearn.gaussian_process.kernels import RBF, Matern\n",
    "from sklearn.metrics import confusion_matrix\n",
    "from sklearn.model_selection import GridSearchCV\n",
    "import seaborn as sns\n",
    "import os\n",
    "import math\n",
    "import h5py"
   ]
  },
  {
   "attachments": {},
   "cell_type": "markdown",
   "metadata": {},
   "source": [
    "# import data"
   ]
  },
  {
   "cell_type": "code",
   "execution_count": 92,
   "metadata": {},
   "outputs": [],
   "source": [
    "def fix_mat(data):\n",
    "    if data.dtype.names:\n",
    "        new_data = dict()\n",
    "        for name in data.dtype.names:\n",
    "            new_data[name]=data[0][name][0]\n",
    "        for k,v in new_data.items():\n",
    "            if v.dtype.names:\n",
    "                new_data[k] = fix_mat(v)\n",
    "            else:\n",
    "                new_data[k] = np.squeeze(v)\n",
    "        return new_data\n",
    "    else:\n",
    "        return data"
   ]
  },
  {
   "cell_type": "code",
   "execution_count": 109,
   "metadata": {},
   "outputs": [],
   "source": [
    "subject = 'c7'\n",
    "day = '20250131'\n",
    "path = '/home/paolo/cvsa_ws/record/' + subject + '/' + day + '/calibration/set/'\n",
    "file_dataset = ['features_matlab.mat', 'features_matlab_difference.mat', 'features_ros.mat', \n",
    "                'features_ros_difference.mat']"
   ]
  },
  {
   "cell_type": "code",
   "execution_count": 96,
   "metadata": {},
   "outputs": [
    {
     "data": {
      "text/plain": [
       "'/home/paolo/cvsa_ws/record/c7/20250131/calibration/set/features_matlab.mat'"
      ]
     },
     "execution_count": 96,
     "metadata": {},
     "output_type": "execute_result"
    }
   ],
   "source": [
    "path + '' + file_dataset[loading_file]"
   ]
  },
  {
   "cell_type": "code",
   "execution_count": 110,
   "metadata": {},
   "outputs": [],
   "source": [
    "loading_file = 0\n",
    "data = loadmat(path + '' + file_dataset[loading_file])\n",
    "\n",
    "X = fix_mat(data['X'])\n",
    "y = fix_mat(data['y']).ravel()\n",
    "info = fix_mat(data['information'])"
   ]
  },
  {
   "cell_type": "code",
   "execution_count": 98,
   "metadata": {},
   "outputs": [
    {
     "data": {
      "text/plain": [
       "array([     0,  37931, 110931, 184097], dtype=int32)"
      ]
     },
     "execution_count": 98,
     "metadata": {},
     "output_type": "execute_result"
    }
   ],
   "source": [
    "info['startNewFile']"
   ]
  },
  {
   "cell_type": "code",
   "execution_count": 111,
   "metadata": {},
   "outputs": [
    {
     "name": "stdout",
     "output_type": "stream",
     "text": [
      "Train set: (184096, 17) (184096,)\n",
      "Test set: (71887, 17) (71887,)\n"
     ]
    }
   ],
   "source": [
    "# start using last n-1 files as test set\n",
    "n = 1\n",
    "start_test = info['startNewFile'][-n] - 1\n",
    "\n",
    "X_train = X[:start_test,:]\n",
    "y_train = y[:start_test].ravel()\n",
    "X_test = X[start_test:,:]\n",
    "y_test = y[start_test:].ravel()\n",
    "\n",
    "print('Train set:', X_train.shape, y_train.shape)\n",
    "print('Test set:', X_test.shape, y_test.shape)"
   ]
  },
  {
   "attachments": {},
   "cell_type": "markdown",
   "metadata": {},
   "source": [
    "# Usefull functions"
   ]
  },
  {
   "cell_type": "code",
   "execution_count": 90,
   "metadata": {},
   "outputs": [],
   "source": [
    "def print_cm(cm, title, tick_labels):\n",
    "\n",
    "    # Create a heatmap\n",
    "    plt.figure(figsize=(3,2))\n",
    "    ax = sns.heatmap(cm, annot=True, fmt='d', cmap='Blues')\n",
    "    ax.set_xticklabels(tick_labels)\n",
    "    ax.set_yticklabels(tick_labels)\n",
    "    \n",
    "    # Add labels and titles\n",
    "    plt.xlabel('Predicted Labels')\n",
    "    plt.ylabel('True Labels')\n",
    "    plt.title(title)\n",
    "    plt.show()\n",
    "    \n",
    "\n",
    "def print_cm_rej(model, X, y_true, th_rej, title, ticket_label):\n",
    "    cm = [[0, 0], [0, 0]]\n",
    "    y_probs = model.predict_proba(X)\n",
    "    count_integrated = 0\n",
    "    count_NOTintegrated = 0\n",
    "    \n",
    "    for idx_p in range(len(y_probs)):\n",
    "        if y_true[idx_p] == 730 and y_probs[idx_p,0] > th_rej:\n",
    "            cm[0][0] += 1 \n",
    "            count_integrated = count_integrated + 1\n",
    "        elif y_true[idx_p] == 730 and y_probs[idx_p, 1] > th_rej:\n",
    "            cm[0][1] += 1\n",
    "            count_integrated = count_integrated + 1\n",
    "        elif y_true[idx_p] == 731 and y_probs[idx_p, 1] > th_rej:\n",
    "            cm[1][1] += 1\n",
    "            count_integrated = count_integrated + 1\n",
    "        elif y_true[idx_p] == 731 and y_probs[idx_p, 0] > th_rej:\n",
    "            cm[1][0] += 1\n",
    "            count_integrated = count_integrated + 1\n",
    "    \n",
    "    # print accuracy\n",
    "    print('Accuracy:', np.trace(cm)/np.sum(cm))\n",
    "    print('Accuracy 730:', cm[0][0]/(cm[0][0]+cm[0][1]))\n",
    "    print('Accuracy 731:', cm[1][1]/(cm[1][0]+cm[1][1]))\n",
    "    print('Integrated: ', count_integrated, ' percentual: ', count_integrated/len(y_probs), '%')   \n",
    "    print_cm(cm, title, ticket_label)\n",
    "    \n",
    "def accuracy_online(prob, hit, miss, timeout, target, ths):\n",
    "        \n",
    "    i1 = np.where(prob[:,0] > ths[0])[0]\n",
    "    if len(i1) == 0:\n",
    "        i1 = len(prob[:,0]) + 1\n",
    "    else:\n",
    "        i1 = i1[0]\n",
    "    i2 = np.where(prob[:,0] < ths[1])[0]\n",
    "    if len(i2) == 0:\n",
    "        i2 = len(prob[:,0]) + 1\n",
    "    else:\n",
    "        i2 = i2[0]\n",
    "        \n",
    "        \n",
    "    \n",
    "    if (target == 730 and i1 < i2) or (target == 731 and i1 > i2):\n",
    "        hit += 1\n",
    "    elif (target == 730 and i1 > i2) or (target == 731 and i1 < i2):\n",
    "        miss += 1\n",
    "    elif i1 == i2:\n",
    "        timeout += 1\n",
    "        \n",
    "    return hit, miss, timeout\n",
    "    \n",
    "def histo_prediction(X, model, nbins, classes):\n",
    "    probs = model.predict_proba(X)\n",
    "    figure = plt.figure(figsize=(5, 3))\n",
    "    plt.hist(probs[:,0], bins=nbins)\n",
    "    # Add title and labels\n",
    "    plt.title('Probability Distribution of class ' + classes[0])\n",
    "    plt.xlabel('Probability')\n",
    "    plt.ylabel('Frequency')\n",
    "\n",
    "    # Show the plot\n",
    "    plt.show()\n",
    "    "
   ]
  },
  {
   "cell_type": "code",
   "execution_count": 26,
   "metadata": {},
   "outputs": [],
   "source": [
    "def online_test_exponential(model, X, y, alpha, ths, th_rej):\n",
    "    # look only test data\n",
    "    %matplotlib widget\n",
    "    y_inter = 0.5\n",
    "    tmp = info['trialStart']\n",
    "    cfStart = tmp[tmp >= start_test] - start_test\n",
    "    cfDUR = info['trialDUR'].ravel()\n",
    "    cfDUR = cfDUR[tmp >= start_test]\n",
    "    \n",
    "    maxDUR = np.max(cfDUR)\n",
    "    \n",
    "\n",
    "    fig, axs = plt.subplots(math.ceil(len(cfStart)/4), 4, sharex=True, sharey=True)\n",
    "    fig.set_size_inches(15,10)\n",
    "\n",
    "    hit, miss, timeout = 0, 0, 0\n",
    "\n",
    "    # iteration over trials\n",
    "    for i in range(len(cfStart)):\n",
    "        \n",
    "        c_start = cfStart[i]\n",
    "        c_end = c_start + cfDUR[i]\n",
    "        \n",
    "        c_y = np.array([[y_inter, y_inter]])\n",
    "        probs = model.predict_proba(X[c_start:c_end,:])\n",
    "        pred = model_qda.predict(X[c_start:c_end,:])\n",
    "        pred[pred==731]=0\n",
    "        pred[pred==730]=1\n",
    "        \n",
    "        for prob in probs:\n",
    "            if max(prob) > th_rej:\n",
    "                c_t = alpha * c_y[-1,:] + (1 - alpha) * prob\n",
    "                c_y = np.vstack([c_y, c_t])\n",
    "            else:\n",
    "                c_t = c_y[-1,:]\n",
    "                c_y = np.vstack([c_y, c_t])\n",
    "        \n",
    "        prev_hit = hit\n",
    "        prev_miss = miss\n",
    "        prev_timeout = timeout\n",
    "        [hit, miss, timeout] = accuracy_online(c_y, hit, miss, timeout, y[cfStart[i]], ths)\n",
    "        \n",
    "        axs[int(i/4), i%4].plot(c_y[:,0]) # first column is about 730 \n",
    "        axs[int(i/4), i%4].scatter(range(len(pred)), pred, color='black')\n",
    "        axs[int(i/4), i%4].hlines(y_inter, 0, len(c_y), colors='r')\n",
    "        axs[int(i/4), i%4].set_xlim([0, maxDUR])\n",
    "        axs[int(i/4), i%4].set_xticks(np.arange(0, maxDUR, 8))\n",
    "        axs[int(i/4), i%4].set_xticklabels(np.arange(0, maxDUR, 8)/16.0)\n",
    "        if hit-prev_hit != 0:\n",
    "            c_title = f'{y[cfStart[i]]} hit'\n",
    "        elif miss - prev_miss != 0:\n",
    "            c_title = f'{y[cfStart[i]]} miss'\n",
    "        elif timeout - prev_timeout != 0:\n",
    "            c_title = f'{y[cfStart[i]]} timeout'\n",
    "        axs[int(i/4), i%4].set_title(c_title)\n",
    "    \n",
    "    print(f'Online accuracy: {hit/(hit+miss+timeout)}, hit: {hit}, miss: {miss}, timeout: {timeout}')\n",
    "    \n",
    "    plt.tight_layout()\n",
    "    plt.show()"
   ]
  },
  {
   "cell_type": "code",
   "execution_count": 27,
   "metadata": {},
   "outputs": [],
   "source": [
    "def online_test_integrator_buffer(model, X, y, buffer_size, ths): # TODO: generalize for not intial percentual = 0.5\n",
    "\n",
    "    # look only test data\n",
    "    %matplotlib widget\n",
    "    y_inter = 0.5\n",
    "    tmp = info['trialStart']\n",
    "    cfStart = tmp[tmp >= start_test] - start_test\n",
    "    cfDUR = info['trialDUR'].ravel()\n",
    "    cfDUR = cfDUR[tmp >= start_test]\n",
    "\n",
    "    maxDUR = np.max(cfDUR)\n",
    "\n",
    "    fig, axs = plt.subplots(math.ceil(len(cfStart)/4), 4, sharex=True, sharey=True)\n",
    "    fig.set_size_inches(15,10)\n",
    "    hit, miss, timeout = 0, 0, 0\n",
    "    # iteration over trials\n",
    "    for i in range(len(cfStart)):\n",
    "\n",
    "        buffer = np.array([730 if i % 2 == 0 else 731 for i in range(buffer_size)])\n",
    "\n",
    "        c_start = cfStart[i]\n",
    "        c_end = c_start + cfDUR[i]\n",
    "\n",
    "        c_y = np.array([[0.5, 0.5]])\n",
    "        pred = model.predict(X[c_start:c_end,:])\n",
    "        pred_prob = pred.copy()\n",
    "        pred_prob[pred==731]=0\n",
    "        pred_prob[pred==730]=1\n",
    "\n",
    "        index = 0\n",
    "        for j in range(len(pred)):\n",
    "            if index == buffer_size:\n",
    "                index = 0\n",
    "            buffer[index] = pred[j]\n",
    "            # compute percentual values\n",
    "            c_y = np.vstack([c_y, [np.sum(buffer == 730)/buffer_size, np.sum(buffer == 731)/buffer_size]])\n",
    "            index = index + 1\n",
    "\n",
    "        prev_hit = hit\n",
    "        prev_miss = miss\n",
    "        prev_timeout = timeout\n",
    "        [hit, miss, timeout] = accuracy_online(c_y, hit, miss, timeout, y[cfStart[i]], ths)\n",
    "\n",
    "        axs[int(i/4), i%4].plot(c_y[:,0]) # first column is about 730 \n",
    "        axs[int(i/4), i%4].scatter(range(len(pred_prob)), pred_prob, color='black')\n",
    "        axs[int(i/4), i%4].hlines(y_inter, 0, len(c_y), colors='r')\n",
    "        axs[int(i/4), i%4].set_xlim([0, maxDUR])\n",
    "        axs[int(i/4), i%4].set_xticks(np.arange(0, maxDUR, 16))\n",
    "        axs[int(i/4), i%4].set_xticklabels(np.arange(0, maxDUR, 16)/16.0)\n",
    "        if hit-prev_hit != 0:\n",
    "            c_title = f'{y[cfStart[i]]} hit'\n",
    "        elif miss - prev_miss != 0:\n",
    "            c_title = f'{y[cfStart[i]]} miss'\n",
    "        elif timeout - prev_timeout != 0:\n",
    "            c_title = f'{y[cfStart[i]]} timeout'\n",
    "        axs[int(i/4), i%4].set_title(c_title)\n",
    "\n",
    "    print(f'Online accuracy: {hit/(hit+miss+timeout)}, hit: {hit}, miss: {miss}, timeout: {timeout}')\n",
    "\n",
    "    plt.tight_layout()\n",
    "    plt.show()"
   ]
  },
  {
   "attachments": {},
   "cell_type": "markdown",
   "metadata": {},
   "source": [
    "# QDA"
   ]
  },
  {
   "cell_type": "code",
   "execution_count": 112,
   "metadata": {},
   "outputs": [
    {
     "name": "stdout",
     "output_type": "stream",
     "text": [
      "Best parameters found:  {'priors': None, 'reg_param': 0.1}\n",
      "Best score found:  0.5972742677804113\n"
     ]
    }
   ],
   "source": [
    "param_grid = {'reg_param': [0.0, 0.1, 0.5, 1.0], 'priors': [None, [0.5, 0.5]]}\n",
    "\n",
    "#grid_search = GridSearchCV(estimator=QuadraticDiscriminantAnalysis(), param_grid=param_grid, cv=5, n_jobs=-1, verbose=3).fit(X_train, y_train)\n",
    "grid_search = GridSearchCV(estimator=QuadraticDiscriminantAnalysis(), param_grid=param_grid, cv=5, n_jobs=-1).fit(X, y)\n",
    "\n",
    "#print(\"Results: \", grid_search.cv_results_)\n",
    "print(\"Best parameters found: \", grid_search.best_params_)\n",
    "print(\"Best score found: \", grid_search.best_score_)"
   ]
  },
  {
   "cell_type": "code",
   "execution_count": 113,
   "metadata": {},
   "outputs": [
    {
     "name": "stdout",
     "output_type": "stream",
     "text": [
      "Accuracy train: 0.629274943507735\n",
      "Accuracy test:  0.611028419602988\n",
      "Accuracy all:   0.6241508225155576\n"
     ]
    }
   ],
   "source": [
    "model_qda = QuadraticDiscriminantAnalysis(reg_param=grid_search.best_params_['reg_param'], store_covariance=True, priors=grid_search.best_params_['priors'])\n",
    "model_qda.fit(X_train, y_train)\n",
    "\n",
    "print(f'Accuracy train: {model_qda.score(X_train, y_train)}')\n",
    "print(f'Accuracy test:  {model_qda.score(X_test, y_test)}')\n",
    "print(f'Accuracy all:   {model_qda.score(X, y)}')"
   ]
  },
  {
   "cell_type": "code",
   "execution_count": 58,
   "metadata": {},
   "outputs": [
    {
     "name": "stdout",
     "output_type": "stream",
     "text": [
      "Accuracy all:   0.6173808416965189\n"
     ]
    }
   ],
   "source": [
    "# train over all the dataset\n",
    "model_qda = QuadraticDiscriminantAnalysis(reg_param=grid_search.best_params_['reg_param'], store_covariance=True, priors=grid_search.best_params_['priors'])\n",
    "model_qda.fit(X, y)\n",
    "\n",
    "print(f'Accuracy all:   {model_qda.score(X, y)}')"
   ]
  },
  {
   "cell_type": "code",
   "execution_count": 114,
   "metadata": {},
   "outputs": [
    {
     "name": "stdout",
     "output_type": "stream",
     "text": [
      "Accuracy: 0.629274943507735\n",
      "Accuracy 730: 0.45978394244881265\n",
      "Accuracy 731: 0.7688125185698722\n",
      "Integrated:  184096  percentual:  1.0 %\n"
     ]
    },
    {
     "data": {
      "image/png": "[encoded data removed]",
      "text/plain": [
       "<Figure size 300x200 with 2 Axes>"
      ]
     },
     "metadata": {},
     "output_type": "display_data"
    },
    {
     "name": "stdout",
     "output_type": "stream",
     "text": [
      "Accuracy: 0.611028419602988\n",
      "Accuracy 730: 0.41937145801133435\n",
      "Accuracy 731: 0.8360298787310612\n",
      "Integrated:  71887  percentual:  1.0 %\n"
     ]
    },
    {
     "data": {
      "image/png": "[encoded data removed]",
      "text/plain": [
       "<Figure size 300x200 with 2 Axes>"
      ]
     },
     "metadata": {},
     "output_type": "display_data"
    },
    {
     "name": "stdout",
     "output_type": "stream",
     "text": [
      "Accuracy: 0.6241508225155576\n",
      "Accuracy 730: 0.44691912813868434\n",
      "Accuracy 731: 0.7853950774786067\n",
      "Integrated:  255983  percentual:  1.0 %\n"
     ]
    },
    {
     "data": {
      "image/png": "[encoded data removed]",
      "text/plain": [
       "<Figure size 300x200 with 2 Axes>"
      ]
     },
     "metadata": {},
     "output_type": "display_data"
    },
    {
     "data": {
      "image/png": "[encoded data removed]",
      "text/plain": [
       "<Figure size 500x300 with 1 Axes>"
      ]
     },
     "metadata": {},
     "output_type": "display_data"
    }
   ],
   "source": [
    "print_cm_rej(model_qda, X_train, y_train, 0.5, 'train set',  ['730', '731'])\n",
    "print_cm_rej(model_qda, X_test,  y_test,  0.5, 'test set',  ['730', '731'])\n",
    "print_cm_rej(model_qda, X,  y,  0.5, 'all dataset',  ['730', '731'])\n",
    "\n",
    "histo_prediction(X_test, model_qda, nbins=50, classes=['730', '731'])"
   ]
  },
  {
   "attachments": {},
   "cell_type": "markdown",
   "metadata": {},
   "source": [
    "# Save QDA"
   ]
  },
  {
   "cell_type": "code",
   "execution_count": 22,
   "metadata": {},
   "outputs": [],
   "source": [
    "# save qda model for sklearn\n",
    "from ruamel.yaml import YAML\n",
    "from ruamel.yaml.scalarstring import LiteralScalarString\n",
    "\n",
    "features_label = []\n",
    "for i in range(0, len(info['selchs'].tolist())):\n",
    "    for j in range(0, len(info['selchs'].tolist()[i])):\n",
    "        for k in range(0, len(info['selchs'].tolist()[i][j])):\n",
    "            if info['selchs'].shape == ():\n",
    "                str_ch = info['selchs'].tolist()[i][j][k]\n",
    "            else:\n",
    "                str_ch = info['selchs'][i][j][k][0]\n",
    "            features_label.append(str(str_ch))\n",
    "\n",
    "files = []\n",
    "for i in range(0, len(info['files'])):\n",
    "    str_file = info['files'][i][0]\n",
    "    files.append(str(str_file))\n",
    "    \n",
    "band = info['band'].tolist()\n",
    "id_ch = info['idx_selchs'].tolist()\n",
    "\n",
    "model_params = {\n",
    "    'QdaCfg': {\n",
    "        'name': \"qda\",\n",
    "        'params': {\n",
    "            'subject': subject,\n",
    "            'filename': 'qda',\n",
    "            'filename_dataset': path,\n",
    "            'files': files,\n",
    "            'type_data': type_,\n",
    "            'nclasses': int(len(model_qda.classes_)),\n",
    "            'classlbs': model_qda.classes_.tolist(),\n",
    "            'nfeatures': int(model_qda.n_features_in_),\n",
    "            'chans': features_label,\n",
    "            'idchans': id_ch, \n",
    "            'sampleRate': int(info['sampleRate']),\n",
    "            'band': band,\n",
    "            'filterOrder': int(info['filterOrder']),\n",
    "            'priors': model_qda.priors_.tolist(),\n",
    "            'means': model_qda.means_.tolist(),\n",
    "            'covs': [arr.tolist() for arr in model_qda.covariance_],\n",
    "            'rotations': [arr.tolist() for arr in model_qda.rotations_],\n",
    "            'scalings': [arr.tolist() for arr in model_qda.scalings_]\n",
    "        }\n",
    "    }\n",
    "}\n",
    "\n",
    "# Save parameters to a YAML file\n",
    "c_dir = os.getcwd()\n",
    "c_prev = os.path.abspath(os.path.join(c_dir, os.pardir))\n",
    "path2save = c_prev + '/cfg/qda_' + subject + '_lbp_' + day + '.yaml'\n",
    "\n",
    "yaml = YAML()\n",
    "with open(path2save, 'w') as file:\n",
    "    yaml.dump(model_params, file)"
   ]
  },
  {
   "cell_type": "code",
   "execution_count": 23,
   "metadata": {},
   "outputs": [
    {
     "data": {
      "text/plain": [
       "'/home/paolo/cvsa_ws/src/qda_cvsa/cfg/qda_test_lbp_20250108.yaml'"
      ]
     },
     "execution_count": 23,
     "metadata": {},
     "output_type": "execute_result"
    }
   ],
   "source": [
    "path2save"
   ]
  }
 ],
 "metadata": {
  "kernelspec": {
   "display_name": "Python 3",
   "language": "python",
   "name": "python3"
  },
  "language_info": {
   "codemirror_mode": {
    "name": "ipython",
    "version": 3
   },
   "file_extension": ".py",
   "mimetype": "text/x-python",
   "name": "python",
   "nbconvert_exporter": "python",
   "pygments_lexer": "ipython3",
   "version": "3.8.10"
  },
  "orig_nbformat": 4
 },
 "nbformat": 4,
 "nbformat_minor": 2
}
