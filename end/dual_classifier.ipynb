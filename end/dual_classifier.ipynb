{
 "cells": [
  {
   "cell_type": "code",
   "execution_count": 1,
   "metadata": {},
   "outputs": [],
   "source": [
    "import numpy as np\n",
    "import matplotlib.pyplot as plt\n",
    "from scipy.io import loadmat\n",
    "from sklearn.discriminant_analysis import QuadraticDiscriminantAnalysis, LinearDiscriminantAnalysis\n",
    "from sklearn.metrics import confusion_matrix, ConfusionMatrixDisplay\n",
    "from sklearn.model_selection import cross_val_score\n",
    "from sklearn.gaussian_process.kernels import RBF, Matern\n",
    "from sklearn.metrics import confusion_matrix\n",
    "from sklearn.model_selection import GridSearchCV\n",
    "import seaborn as sns\n",
    "import os\n",
    "import math"
   ]
  },
  {
   "attachments": {},
   "cell_type": "markdown",
   "metadata": {},
   "source": [
    "# import data"
   ]
  },
  {
   "cell_type": "code",
   "execution_count": 2,
   "metadata": {},
   "outputs": [],
   "source": [
    "def fix_mat(data):\n",
    "    if data.dtype.names:\n",
    "        new_data = dict()\n",
    "        for name in data.dtype.names:\n",
    "            new_data[name]=data[0][name][0]\n",
    "        for k,v in new_data.items():\n",
    "            if v.dtype.names:\n",
    "                new_data[k] = fix_mat(v)\n",
    "            else:\n",
    "                new_data[k] = np.squeeze(v)\n",
    "        return new_data\n",
    "    else:\n",
    "        return data"
   ]
  },
  {
   "cell_type": "code",
   "execution_count": 69,
   "metadata": {},
   "outputs": [],
   "source": [
    "def extract_event(signal, event_extract, events):\n",
    "    pos = events['POS'][events['TYP'] == event_extract] - 1 # the pose are in matlab format\n",
    "    dur = events['DUR'][events['TYP'] == event_extract]\n",
    "    mindur = min(dur) \n",
    "    c_signal = np.zeros((len(pos), mindur, signal.shape[1]))\n",
    "    for i in range(len(pos)):\n",
    "        c_signal[i] = signal[pos[i]:pos[i]+mindur]\n",
    "    return c_signal"
   ]
  },
  {
   "cell_type": "code",
   "execution_count": 62,
   "metadata": {},
   "outputs": [],
   "source": [
    "# general info\n",
    "subject = 'c7'\n",
    "day = '20250217'\n",
    "\n",
    "interested_band = np.array([[8, 14]])\n",
    "#interested_channel = np.array(['PO8', 'PO7', 'O1', 'P3'])"
   ]
  },
  {
   "cell_type": "code",
   "execution_count": 70,
   "metadata": {},
   "outputs": [],
   "source": [
    "# for evalration file\n",
    "path_calib = '/home/paolo/cvsa_ws/record/' + subject + '/' + day + '/calibration/mat/cali_proc512.mat'\n",
    "data_calib = loadmat(path_calib)\n",
    "signals_calib = fix_mat(data_calib['signals'])\n",
    "events_calib = fix_mat(data_calib['events'])\n",
    "info_calib = fix_mat(data_calib['info'])\n",
    "sampleRate = info_calib['sampleRate']\n",
    "channels_label = info_calib['channel_labels']\n",
    "bands = info_calib['bands']\n",
    "\n",
    "interested_channel = channels_label\n",
    "idx_interested_band = next(i for i, sub_arr in enumerate(bands) if np.array_equal(sub_arr, interested_band))\n",
    "idx_interested_channel = [np.where([ch[0] == ic for ch in channels_label])[0][0] for ic in interested_channel]\n",
    "\n",
    "signal_calib = signals_calib[idx_interested_band][0]\n",
    "signal_calib = signal_calib[:, idx_interested_channel]\n",
    "event_calib = events_calib\n",
    "cf_calib = extract_event(signal_calib, 781, event_calib) # cf is trial x samples x channels\n",
    "cueTYP_calib = event_calib['TYP'][np.isin(event_calib['TYP'], [730, 731])] # vector trial x 1\n",
    "ntrial = len(cueTYP_calib)\n",
    "interested_channel = channels_label"
   ]
  },
  {
   "cell_type": "code",
   "execution_count": 72,
   "metadata": {},
   "outputs": [],
   "source": [
    "# for evaluation\n",
    "path_eval = '/home/paolo/cvsa_ws/record/' + subject + '/' + day + '/evaluation/mat/eva_proc512.mat'\n",
    "data_eval = loadmat(path_eval)\n",
    "signals_eval = fix_mat(data_eval['signals'])\n",
    "events_eval = fix_mat(data_eval['events'])\n",
    "info_eval = fix_mat(data_eval['info'])\n",
    "sampleRate = info_eval['sampleRate']\n",
    "channels_label = info_eval['channel_labels']\n",
    "bands = info_eval['bands']\n",
    "\n",
    "interested_channel = channels_label\n",
    "idx_interested_band = next(i for i, sub_arr in enumerate(bands) if np.array_equal(sub_arr, interested_band))\n",
    "idx_interested_channel = [np.where([ch[0] == ic for ch in channels_label])[0][0] for ic in interested_channel]\n",
    "\n",
    "signal_eval = signals_eval[idx_interested_band][0]\n",
    "signal_eval = signal_eval[:, idx_interested_channel]\n",
    "event_eval = events_eval\n",
    "cf_eval = extract_event(signal_eval, 781, event_eval) # cf is trial x samples x channels\n",
    "cueTYP_eval = event_eval['TYP'][np.isin(event_eval['TYP'], [730, 731])] # vector trial x 1\n",
    "ntrial = len(cueTYP_eval)"
   ]
  },
  {
   "cell_type": "code",
   "execution_count": 73,
   "metadata": {},
   "outputs": [
    {
     "name": "stdout",
     "output_type": "stream",
     "text": [
      "Train set calibration: (20480, 17) (20480,)\n",
      "Test set calibration: (5120, 17) (5120,)\n",
      "Train set evaluation: (20480, 17) (20480,)\n",
      "Test set evaluation: (5120, 17) (5120,)\n"
     ]
    }
   ],
   "source": [
    "# create the dataset of the first 250 ms of the trial\n",
    "start_time = 0 # s\n",
    "end_time = 0.5 # s\n",
    "sample_start = int(start_time * sampleRate)\n",
    "sample_end = int(end_time * sampleRate)\n",
    "X_calib_temp = cf_calib[:, sample_start:sample_end, :]\n",
    "nsamples = X_calib_temp.shape[1]\n",
    "\n",
    "X_calib = np.zeros((X_calib_temp.shape[0]* X_calib_temp.shape[1], X_calib_temp.shape[2]))\n",
    "y_calib = np.zeros((X_calib_temp.shape[0]* X_calib_temp.shape[1], 1))\n",
    "for idx_trial in range(ntrial):\n",
    "    X_calib[idx_trial*nsamples:(idx_trial+1)*nsamples] = (X_calib_temp[idx_trial, :, :])\n",
    "    y_calib[idx_trial*nsamples:(idx_trial+1)*nsamples] = cueTYP_calib[idx_trial]\n",
    "y_calib = y_calib.ravel()\n",
    "\n",
    "# start using last n-1 trials as test set\n",
    "n = 20\n",
    "start_test = nsamples * (ntrial - n)\n",
    "\n",
    "X_train_calib = X_calib[:start_test,:]\n",
    "y_train_calib = y_calib[:start_test].ravel()\n",
    "X_test_calib = X_calib[start_test:,:]\n",
    "y_test_calib = y_calib[start_test:].ravel()\n",
    "\n",
    "print('Train set calibration:', X_train_calib.shape, y_train_calib.shape)\n",
    "print('Test set calibration:', X_test_calib.shape, y_test_calib.shape)\n",
    "\n",
    "# create the dataset of the first 250 ms of the trial\n",
    "X_eval_temp = cf_eval[:, sample_start:sample_end, :]\n",
    "nsamples = X_eval_temp.shape[1]\n",
    "\n",
    "X_eval = np.zeros((X_eval_temp.shape[0]* X_eval_temp.shape[1], X_eval_temp.shape[2]))\n",
    "y_eval = np.zeros((X_eval_temp.shape[0]* X_eval_temp.shape[1], 1))\n",
    "for idx_trial in range(ntrial):\n",
    "    X_eval[idx_trial*nsamples:(idx_trial+1)*nsamples] = (X_eval_temp[idx_trial, :, :])\n",
    "    y_eval[idx_trial*nsamples:(idx_trial+1)*nsamples] = cueTYP_eval[idx_trial]\n",
    "y_eval = y_eval.ravel()\n",
    "\n",
    "# start using last n-1 trials as test set\n",
    "n = 20\n",
    "start_test = nsamples * (ntrial - n)\n",
    "\n",
    "X_train_eval = X_eval[:start_test,:]\n",
    "y_train_eval = y_eval[:start_test].ravel()\n",
    "X_test_eval = X_eval[start_test:,:]\n",
    "y_test_eval = y_eval[start_test:].ravel()\n",
    "\n",
    "print('Train set evaluation:', X_train_eval.shape, y_train_eval.shape)\n",
    "print('Test set evaluation:', X_test_eval.shape, y_test_eval.shape)"
   ]
  },
  {
   "cell_type": "code",
   "execution_count": 42,
   "metadata": {},
   "outputs": [],
   "source": [
    "# rest of trial\n",
    "X_calib_temp_restTrial = cf_calib[:, sample_end:,:]\n",
    "nsamples = X_calib_temp_restTrial.shape[1]\n",
    "\n",
    "X_calib_restTrial = np.zeros((X_calib_temp_restTrial.shape[0]* X_calib_temp_restTrial.shape[1], X_calib_temp_restTrial.shape[2]))\n",
    "y_calib_restTrial = np.zeros((X_calib_temp_restTrial.shape[0]* X_calib_temp_restTrial.shape[1], 1))\n",
    "for idx_trial in range(ntrial):\n",
    "    X_calib_restTrial[idx_trial*nsamples:(idx_trial+1)*nsamples] = (X_calib_temp_restTrial[idx_trial, :, :])\n",
    "    y_calib_restTrial[idx_trial*nsamples:(idx_trial+1)*nsamples] = cueTYP_calib[idx_trial]\n",
    "    \n",
    "y_calib_restTrial = y_calib_restTrial.ravel()"
   ]
  },
  {
   "attachments": {},
   "cell_type": "markdown",
   "metadata": {},
   "source": [
    "# Usefull functions"
   ]
  },
  {
   "cell_type": "code",
   "execution_count": 8,
   "metadata": {},
   "outputs": [],
   "source": [
    "def print_cm(cm, title, tick_labels):\n",
    "    cm = np.array(cm)\n",
    "    cm = cm / cm.sum(axis=1)\n",
    "    disp = ConfusionMatrixDisplay(confusion_matrix=cm, display_labels=tick_labels)\n",
    "\n",
    "    disp.plot()\n",
    "    plt.show()\n",
    "\n",
    "    \n",
    "\n",
    "def print_cm_rej(model, X, y_true, th_rej, title, ticket_label):\n",
    "    cm = [[0, 0], [0, 0]]\n",
    "    y_probs = model.predict_proba(X)\n",
    "    count_integrated = 0\n",
    "    \n",
    "    for idx_p in range(len(y_probs)):\n",
    "        if y_true[idx_p] == 730 and y_probs[idx_p,0] > th_rej[0]:\n",
    "            cm[0][0] += 1 \n",
    "            count_integrated = count_integrated + 1\n",
    "        elif y_true[idx_p] == 730 and y_probs[idx_p, 1] > th_rej[0]:\n",
    "            cm[0][1] += 1\n",
    "            count_integrated = count_integrated + 1\n",
    "        elif y_true[idx_p] == 731 and y_probs[idx_p, 1] > th_rej[1]:\n",
    "            cm[1][1] += 1\n",
    "            count_integrated = count_integrated + 1\n",
    "        elif y_true[idx_p] == 731 and y_probs[idx_p, 0] > th_rej[1]:\n",
    "            cm[1][0] += 1\n",
    "            count_integrated = count_integrated + 1\n",
    "    \n",
    "    # print accuracy\n",
    "    print('Accuracy:', np.trace(cm)/np.sum(cm))\n",
    "    print('Accuracy 730:', cm[0][0]/(cm[0][0]+cm[0][1]))\n",
    "    print('Accuracy 731:', cm[1][1]/(cm[1][0]+cm[1][1]))\n",
    "    print('Integrated: ', count_integrated, ' percentual: ', count_integrated/len(y_probs), '%')   \n",
    "    print_cm(cm, title, ticket_label)\n",
    "    \n",
    "def accuracy_online(prob, hit, miss, timeout, target, ths):\n",
    "        \n",
    "    i1 = np.where(prob[:,0] > ths[0])[0]\n",
    "    if len(i1) == 0:\n",
    "        i1 = len(prob[:,0]) + 1\n",
    "    else:\n",
    "        i1 = i1[0]\n",
    "    i2 = np.where(prob[:,1] > ths[1])[0]\n",
    "    if len(i2) == 0:\n",
    "        i2 = len(prob[:,1]) + 1\n",
    "    else:\n",
    "        i2 = i2[0]\n",
    "        \n",
    "        \n",
    "    \n",
    "    if (target == 730 and i1 < i2) or (target == 731 and i1 > i2):\n",
    "        hit += 1\n",
    "    elif (target == 730 and i1 > i2) or (target == 731 and i1 < i2):\n",
    "        miss += 1\n",
    "    elif i1 == i2:\n",
    "        timeout += 1\n",
    "        \n",
    "    return hit, miss, timeout\n",
    "    \n",
    "def histo_prediction(X, model, bins_step, classes):\n",
    "    probs = model.predict_proba(X)\n",
    "    bins = np.arange(0, 1.0+bins_step, bins_step)\n",
    "    figure = plt.figure(figsize=(5, 3))\n",
    "    plt.hist(probs[:,0], bins=bins)\n",
    "    # Add title and labels\n",
    "    plt.xticks(np.arange(0, 1.1, 0.1))\n",
    "    plt.title('Probability Distribution of class ' + classes[0])\n",
    "    plt.xlabel('Probability')\n",
    "    plt.ylabel('Frequency')\n",
    "\n",
    "    # Show the plot\n",
    "    plt.show()\n",
    "    "
   ]
  },
  {
   "cell_type": "code",
   "execution_count": 9,
   "metadata": {},
   "outputs": [],
   "source": [
    "def sim_online_expo_buffer(model, X, y, buffer_size, ths_integrated, ths_rej, alpha): \n",
    "# TODO: generalize for not intial percentual = 0.5\n",
    "    # look only test data\n",
    "    %matplotlib qt\n",
    "    y_inter = 0.5\n",
    "    tmp = info['startTrial']\n",
    "    tmp2 = info['startTrial']\n",
    "    tmp2 = np.append(tmp2, X.shape[0])\n",
    "    tmp2 = tmp2[1:len(tmp2)]\n",
    "    cfStart = tmp[tmp >= start_test] - start_test - 1 # -1 since it is from matlab\n",
    "    cfDUR = (tmp2-tmp).ravel()\n",
    "    cfDUR = cfDUR[tmp >= start_test] \n",
    "\n",
    "    maxDUR = np.max(cfDUR)\n",
    "\n",
    "    fig, axs = plt.subplots(math.ceil(len(cfStart)/4), 4, sharex=True, sharey=True)\n",
    "    fig.set_size_inches(15,10)\n",
    "    hit_B, miss_B, timeout_B, hit_E, miss_E, timeout_E = 0, 0, 0, 0, 0, 0\n",
    "    # iteration over trials\n",
    "    for i in range(len(cfStart)):\n",
    "\n",
    "        buffer = np.array([730 if i % 2 == 0 else 731 for i in range(buffer_size)])\n",
    "\n",
    "        c_start = cfStart[i]\n",
    "        c_end = c_start + cfDUR[i]\n",
    "\n",
    "        c_y_B = np.array([[0.5, 0.5]])\n",
    "        c_y_E = np.array([[0.5, 0.5]])\n",
    "        pred = model.predict_proba(X[c_start:c_end,:])\n",
    "        pred_prob = [sublist[0] for sublist in pred] # contains only 730 probabilities\n",
    "\n",
    "        index = 0\n",
    "        for j in range(len(pred)):\n",
    "            if index == buffer_size:\n",
    "                index = 0\n",
    "            c_prob = pred[j]\n",
    "            \n",
    "            # integrated for the buffer integrator\n",
    "            if c_prob[0] == 0.5:\n",
    "                c_y_B = np.vstack([c_y_B, [np.sum(buffer == 730)/buffer_size, np.sum(buffer == 731)/buffer_size]])\n",
    "            elif c_prob[0] >= ths_rej[0]:\n",
    "                buffer[index] = 730\n",
    "                # compute percentual values\n",
    "                c_y_B = np.vstack([c_y_B, [np.sum(buffer == 730)/buffer_size, np.sum(buffer == 731)/buffer_size]])\n",
    "                index = index + 1\n",
    "            elif c_prob[1] >= ths_rej[1]:\n",
    "                buffer[index] = 731\n",
    "                # compute percentual values\n",
    "                c_y_B = np.vstack([c_y_B, [np.sum(buffer == 730)/buffer_size, np.sum(buffer == 731)/buffer_size]])\n",
    "                index = index + 1\n",
    "            else:\n",
    "                c_y_B = np.vstack([c_y_B, [np.sum(buffer == 730)/buffer_size, np.sum(buffer == 731)/buffer_size]])\n",
    "            \n",
    "            # integrate for the exponential\n",
    "            idx_max = np.argmax(pred[j])\n",
    "            if c_prob[idx_max] > ths_rej[idx_max]:\n",
    "                prob = np.zeros(len(c_prob))  \n",
    "                prob[idx_max] = 1.0  \n",
    "                c_t = alpha * c_y_E[-1,:] + (1 - alpha) * prob\n",
    "                c_y_E = np.vstack([c_y_E, c_t])\n",
    "            elif c_prob[idx_max] == 0.5:\n",
    "                c_y_E = np.vstack([c_y_E, c_y_E[-1,:]])\n",
    "                \n",
    "\n",
    "        prev_hit_B = hit_B\n",
    "        prev_miss_B = miss_B\n",
    "        prev_timeout_B = timeout_B\n",
    "        [hit_B, miss_B, timeout_B] = accuracy_online(c_y_B, hit_B, miss_B, timeout_B, y[cfStart[i]], ths_integrated)\n",
    "        prev_hit_E = hit_E\n",
    "        prev_miss_E = miss_E\n",
    "        prev_timeout_E = timeout_E\n",
    "        [hit_E, miss_E, timeout_E] = accuracy_online(c_y_E, hit_E, miss_E, timeout_E, y[cfStart[i]], ths_integrated)\n",
    "\n",
    "        axs[int(i/4), i%4].plot(c_y_B[:,0]) # first column is 730 \n",
    "        axs[int(i/4), i%4].plot(c_y_E[:,0]) # first column is 730 \n",
    "        axs[int(i/4), i%4].scatter(range(len(pred_prob)), pred_prob, color='black')\n",
    "        axs[int(i/4), i%4].hlines(y_inter, 0, len(c_y_B), colors='r')\n",
    "        axs[int(i/4), i%4].set_xlim([0, maxDUR])\n",
    "        axs[int(i/4), i%4].set_xticks(np.arange(0, maxDUR, 16))\n",
    "        axs[int(i/4), i%4].set_xticklabels(np.arange(0, maxDUR, 16)/16.0)\n",
    "        axs[int(i/4), i%4].hlines(ths_rej[0], 0, len(c_y_B), colors='r', linestyle='--')\n",
    "        axs[int(i/4), i%4].hlines(1.0-ths_rej[1], 0, len(c_y_B), colors='r', linestyle='--')\n",
    "        axs[int(i/4), i%4].hlines(ths_integrated[0], 0, len(c_y_B), colors='g', linestyle='--')\n",
    "        axs[int(i/4), i%4].hlines(1.0 -ths_integrated[1], 0, len(c_y_B), colors='g', linestyle='--')\n",
    "        if hit_B-prev_hit_B != 0:\n",
    "            c_title = f'{y[cfStart[i]]} hit Buffer'\n",
    "        elif miss_B - prev_miss_B != 0:\n",
    "            c_title = f'{y[cfStart[i]]} miss Buffer'\n",
    "        elif timeout_B - prev_timeout_B != 0:\n",
    "            c_title = f'{y[cfStart[i]]} timeout Buffer'\n",
    "            \n",
    "        if hit_E-prev_hit_E != 0:\n",
    "            c_title += f'| {y[cfStart[i]]} hit Expo'\n",
    "        elif miss_E - prev_miss_E != 0:\n",
    "            c_title += f'| {y[cfStart[i]]} miss Expo'\n",
    "        elif timeout_E - prev_timeout_E != 0:\n",
    "            c_title += f'| {y[cfStart[i]]} timeout Expo'\n",
    "        axs[int(i/4), i%4].set_title(c_title)\n",
    "\n",
    "    print(f'Online accuracy buffer: {hit_B/(hit_B+miss_B+timeout_B)}, hit: {hit_B}, miss: {miss_B}, timeout: {timeout_B}')\n",
    "    print(f'Online accuracy eponential: {hit_E/(hit_E+miss_E+timeout_E)}, hit: {hit_E}, miss: {miss_E}, timeout: {timeout_E}')\n",
    "\n",
    "    plt.tight_layout()\n",
    "    plt.show()"
   ]
  },
  {
   "cell_type": "code",
   "execution_count": 76,
   "metadata": {},
   "outputs": [
    {
     "ename": "NameError",
     "evalue": "name 'info' is not defined",
     "output_type": "error",
     "traceback": [
      "\u001b[0;31m---------------------------------------------------------------------------\u001b[0m",
      "\u001b[0;31mNameError\u001b[0m                                 Traceback (most recent call last)",
      "Cell \u001b[0;32mIn[76], line 1\u001b[0m\n\u001b[0;32m----> 1\u001b[0m sim_online_expo_buffer(model_qda, X, y, \u001b[39m48\u001b[39;49m, [\u001b[39m0.75\u001b[39;49m, \u001b[39m0.75\u001b[39;49m], [\u001b[39m0.55\u001b[39;49m, \u001b[39m0.55\u001b[39;49m], \u001b[39m0.97\u001b[39;49m)\n",
      "Cell \u001b[0;32mIn[66], line 6\u001b[0m, in \u001b[0;36msim_online_expo_buffer\u001b[0;34m(model, X, y, buffer_size, ths_integrated, ths_rej, alpha)\u001b[0m\n\u001b[1;32m      4\u001b[0m get_ipython()\u001b[39m.\u001b[39mrun_line_magic(\u001b[39m'\u001b[39m\u001b[39mmatplotlib\u001b[39m\u001b[39m'\u001b[39m, \u001b[39m'\u001b[39m\u001b[39mqt\u001b[39m\u001b[39m'\u001b[39m)\n\u001b[1;32m      5\u001b[0m y_inter \u001b[39m=\u001b[39m \u001b[39m0.5\u001b[39m\n\u001b[0;32m----> 6\u001b[0m tmp \u001b[39m=\u001b[39m info[\u001b[39m'\u001b[39m\u001b[39mstartTrial\u001b[39m\u001b[39m'\u001b[39m]\n\u001b[1;32m      7\u001b[0m tmp2 \u001b[39m=\u001b[39m info[\u001b[39m'\u001b[39m\u001b[39mstartTrial\u001b[39m\u001b[39m'\u001b[39m]\n\u001b[1;32m      8\u001b[0m tmp2 \u001b[39m=\u001b[39m np\u001b[39m.\u001b[39mappend(tmp2, X\u001b[39m.\u001b[39mshape[\u001b[39m0\u001b[39m])\n",
      "\u001b[0;31mNameError\u001b[0m: name 'info' is not defined"
     ]
    }
   ],
   "source": [
    "sim_online_expo_buffer(model_qda, X, y, 48, [0.75, 0.75], [0.55, 0.55], 0.97)"
   ]
  },
  {
   "attachments": {},
   "cell_type": "markdown",
   "metadata": {},
   "source": [
    "# QDA"
   ]
  },
  {
   "cell_type": "code",
   "execution_count": 40,
   "metadata": {},
   "outputs": [
    {
     "name": "stdout",
     "output_type": "stream",
     "text": [
      "Best parameters found:  {'priors': None, 'reg_param': 0.0}\n",
      "Best score found:  1.0\n"
     ]
    }
   ],
   "source": [
    "param_grid = {'reg_param': [0.0, 0.1, 0.5, 1.0], 'priors': [None, [0.5, 0.5]]}\n",
    "\n",
    "#grid_search = GridSearchCV(estimator=QuadraticDiscriminantAnalysis(), param_grid=param_grid, cv=5, n_jobs=-1, verbose=3).fit(X_train, y_train)\n",
    "grid_search = GridSearchCV(estimator=QuadraticDiscriminantAnalysis(), param_grid=param_grid, cv=5, n_jobs=-1).fit(X_train_calib, y_train_calib)\n",
    "\n",
    "#print(\"Results: \", grid_search.cv_results_)\n",
    "print(\"Best parameters found: \", grid_search.best_params_)\n",
    "print(\"Best score found: \", grid_search.best_score_)"
   ]
  },
  {
   "cell_type": "code",
   "execution_count": 51,
   "metadata": {},
   "outputs": [],
   "source": [
    "X_train_calib = X_train_calib[range(0, X_train_calib.shape[0], 32),:]\n",
    "y_train_calib = y_train_calib[range(0, y_train_calib.shape[0], 32)]"
   ]
  },
  {
   "cell_type": "code",
   "execution_count": 54,
   "metadata": {},
   "outputs": [
    {
     "data": {
      "text/plain": [
       "(640, 17)"
      ]
     },
     "execution_count": 54,
     "metadata": {},
     "output_type": "execute_result"
    }
   ],
   "source": [
    "X_train_calib.shape"
   ]
  },
  {
   "cell_type": "code",
   "execution_count": 60,
   "metadata": {},
   "outputs": [
    {
     "data": {
      "text/plain": [
       "(array([-1.92774225, -1.87818622, -1.84022317, ...,  2.41188006,\n",
       "         2.42220081,  2.46765988]),\n",
       " array([4, 4, 4, ..., 4, 4, 4]))"
      ]
     },
     "execution_count": 60,
     "metadata": {},
     "output_type": "execute_result"
    }
   ],
   "source": [
    "np.unique(X_train_calib, return_counts=True)"
   ]
  },
  {
   "cell_type": "code",
   "execution_count": 52,
   "metadata": {},
   "outputs": [
    {
     "name": "stdout",
     "output_type": "stream",
     "text": [
      "Calibration 0-0.5 s\n",
      "   Accuracy calibration train: 1.0\n",
      "   Accuracy calibration test:  1.0\n",
      "   Accuracy calibration all:   1.0\n",
      "All the other part of the trial\n",
      "   Accuracy calibration all:   0.4929772234273319\n",
      "Accuracy evaluation all:   0.4765625\n"
     ]
    }
   ],
   "source": [
    "model_qda = QuadraticDiscriminantAnalysis(reg_param=grid_search.best_params_['reg_param'], store_covariance=True, priors=grid_search.best_params_['priors'])\n",
    "model_qda.fit(X_train_calib, y_train_calib)\n",
    "\n",
    "print(f'Calibration 0-{end_time} s')\n",
    "print(f'   Accuracy calibration train: {model_qda.score(X_train_calib, y_train_calib)}')\n",
    "print(f'   Accuracy calibration test:  {model_qda.score(X_test_calib, y_test_calib)}')\n",
    "print(f'   Accuracy calibration all:   {model_qda.score(X_calib, y_calib)}')\n",
    "print(f'All the other part of the trial')\n",
    "print(f'   Accuracy calibration all:   {model_qda.score(X_calib_restTrial, y_calib_restTrial)}')\n",
    "\n",
    "#print(f'Accuracy evaluation train: {model_qda.score(X_train_eval, y_train_eval)}')\n",
    "#print(f'Accuracy evaluation test:  {model_qda.score(X_test_eval, y_test_eval)}')\n",
    "print(f'Accuracy evaluation all:   {model_qda.score(X_eval, y_eval)}')"
   ]
  },
  {
   "cell_type": "code",
   "execution_count": 43,
   "metadata": {},
   "outputs": [
    {
     "name": "stdout",
     "output_type": "stream",
     "text": [
      "Accuracy calibration all:   0.7715625\n",
      "Accuracy evaluation all:   0.400625\n"
     ]
    }
   ],
   "source": [
    "# train over all the dataset\n",
    "model_qda = QuadraticDiscriminantAnalysis(reg_param=grid_search.best_params_['reg_param'], store_covariance=True, priors=grid_search.best_params_['priors'])\n",
    "model_qda.fit(X_calib, y_calib)\n",
    "\n",
    "print(f'Accuracy calibration all:   {model_qda.score(X_calib, y_calib)}')\n",
    "print(f'Accuracy evaluation all:   {model_qda.score(X_eval, y_eval)}')"
   ]
  },
  {
   "cell_type": "code",
   "execution_count": 44,
   "metadata": {},
   "outputs": [
    {
     "name": "stdout",
     "output_type": "stream",
     "text": [
      "CALIBRATION:\n",
      "Accuracy: 0.7715625\n",
      "Accuracy 730: 0.826875\n",
      "Accuracy 731: 0.71625\n",
      "Integrated:  25600  percentual:  1.0 %\n"
     ]
    },
    {
     "data": {
      "image/png": "[encoded data removed]",
      "text/plain": [
       "<Figure size 640x480 with 2 Axes>"
      ]
     },
     "metadata": {},
     "output_type": "display_data"
    },
    {
     "name": "stdout",
     "output_type": "stream",
     "text": [
      "Accuracy: 0.7715625\n",
      "Accuracy 730: 0.826875\n",
      "Accuracy 731: 0.71625\n",
      "Integrated:  6400  percentual:  1.0 %\n"
     ]
    },
    {
     "data": {
      "image/png": "[encoded data removed]",
      "text/plain": [
       "<Figure size 640x480 with 2 Axes>"
      ]
     },
     "metadata": {},
     "output_type": "display_data"
    },
    {
     "name": "stdout",
     "output_type": "stream",
     "text": [
      "Accuracy: 0.7715625\n",
      "Accuracy 730: 0.826875\n",
      "Accuracy 731: 0.71625\n",
      "Integrated:  32000  percentual:  1.0 %\n"
     ]
    },
    {
     "data": {
      "image/png": "[encoded data removed]",
      "text/plain": [
       "<Figure size 640x480 with 2 Axes>"
      ]
     },
     "metadata": {},
     "output_type": "display_data"
    },
    {
     "data": {
      "image/png": "[encoded data removed]",
      "text/plain": [
       "<Figure size 500x300 with 1 Axes>"
      ]
     },
     "metadata": {},
     "output_type": "display_data"
    },
    {
     "name": "stdout",
     "output_type": "stream",
     "text": [
      "EVALUATION:\n",
      "Accuracy: 0.400625\n",
      "Accuracy 730: 0.5284375\n",
      "Accuracy 731: 0.2728125\n",
      "Integrated:  25600  percentual:  1.0 %\n"
     ]
    },
    {
     "data": {
      "image/png": "[encoded data removed]",
      "text/plain": [
       "<Figure size 640x480 with 2 Axes>"
      ]
     },
     "metadata": {},
     "output_type": "display_data"
    },
    {
     "name": "stdout",
     "output_type": "stream",
     "text": [
      "Accuracy: 0.400625\n",
      "Accuracy 730: 0.5284375\n",
      "Accuracy 731: 0.2728125\n",
      "Integrated:  6400  percentual:  1.0 %\n"
     ]
    },
    {
     "data": {
      "image/png": "[encoded data removed]",
      "text/plain": [
       "<Figure size 640x480 with 2 Axes>"
      ]
     },
     "metadata": {},
     "output_type": "display_data"
    },
    {
     "name": "stdout",
     "output_type": "stream",
     "text": [
      "Accuracy: 0.400625\n",
      "Accuracy 730: 0.5284375\n",
      "Accuracy 731: 0.2728125\n",
      "Integrated:  32000  percentual:  1.0 %\n"
     ]
    },
    {
     "data": {
      "image/png": "[encoded data removed]",
      "text/plain": [
       "<Figure size 640x480 with 2 Axes>"
      ]
     },
     "metadata": {},
     "output_type": "display_data"
    },
    {
     "data": {
      "image/png": "[encoded data removed]",
      "text/plain": [
       "<Figure size 500x300 with 1 Axes>"
      ]
     },
     "metadata": {},
     "output_type": "display_data"
    }
   ],
   "source": [
    "ths_rej = [0.5, 0.5]\n",
    "bins_step = 0.02\n",
    "\n",
    "print('CALIBRATION:')\n",
    "print_cm_rej(model_qda, X_train_calib, y_train_calib, ths_rej, 'train set',  ['730', '731'])\n",
    "print_cm_rej(model_qda, X_test_calib,  y_test_calib,  ths_rej, 'test set',  ['730', '731'])\n",
    "print_cm_rej(model_qda, X_calib,  y_calib,  ths_rej, 'all dataset',  ['730', '731'])\n",
    "\n",
    "histo_prediction(X_test_calib, model_qda, bins_step, classes=['730', '731'])\n",
    "\n",
    "print('EVALUATION:')\n",
    "print_cm_rej(model_qda, X_train_eval, y_train_eval, ths_rej, 'train set',  ['730', '731'])\n",
    "print_cm_rej(model_qda, X_test_eval,  y_test_eval,  ths_rej, 'test set',  ['730', '731'])\n",
    "print_cm_rej(model_qda, X_eval,  y_eval,  ths_rej, 'all dataset',  ['730', '731'])\n",
    "\n",
    "histo_prediction(X_test_eval, model_qda, bins_step, classes=['730', '731'])"
   ]
  },
  {
   "attachments": {},
   "cell_type": "markdown",
   "metadata": {},
   "source": [
    "# Save QDA"
   ]
  },
  {
   "cell_type": "code",
   "execution_count": 43,
   "metadata": {},
   "outputs": [
    {
     "name": "stdout",
     "output_type": "stream",
     "text": [
      "/home/paolo/cvsa_ws/src/qda_cvsa/cfg/qda_f2_lbp_20250304.yaml\n"
     ]
    }
   ],
   "source": [
    "# save qda model for sklearn\n",
    "from ruamel.yaml import YAML\n",
    "from ruamel.yaml.scalarstring import LiteralScalarString\n",
    "\n",
    "features_label = []\n",
    "for i in range(0, len(info['chSelected'].tolist())):\n",
    "    features_label.append(str(info['channelsLabel'][info['chSelected'][i] - 1][0]))\n",
    "\n",
    "files = []\n",
    "for i in range(0, len(info['files'])):\n",
    "    str_file = info['files'][i][0]\n",
    "    files.append(str(str_file))\n",
    "    \n",
    "band = info['bandSelected'].tolist()\n",
    "id_ch = info['chSelected'].tolist()\n",
    "\n",
    "model_params = {\n",
    "    'QdaCfg': {\n",
    "        'name': \"qda\",\n",
    "        'params': {\n",
    "            'subject': subject,\n",
    "            'filename': 'qda',\n",
    "            'filename_dataset': path,\n",
    "            'files': files,\n",
    "            'type_data': type_,\n",
    "            'nclasses': int(len(model_qda.classes_)),\n",
    "            'classlbs': model_qda.classes_.tolist(),\n",
    "            'nfeatures': int(model_qda.n_features_in_),\n",
    "            'chans': features_label,\n",
    "            'idchans': id_ch, \n",
    "            'note': 'idchans are saved in matlab convention, instead the names are correct',\n",
    "            'sampleRate': int(info['sampleRate']),\n",
    "            'band': band,\n",
    "            'filterOrder': int(info['filterOrder']),\n",
    "            'priors': model_qda.priors_.tolist(),\n",
    "            'means': model_qda.means_.tolist(),\n",
    "            'covs': [arr.tolist() for arr in model_qda.covariance_],\n",
    "            'rotations': [arr.tolist() for arr in model_qda.rotations_],\n",
    "            'scalings': [arr.tolist() for arr in model_qda.scalings_]\n",
    "        }\n",
    "    }\n",
    "}\n",
    "\n",
    "# Save parameters to a YAML file\n",
    "c_dir = os.getcwd()\n",
    "c_prev = os.path.abspath(os.path.join(c_dir, os.pardir))\n",
    "path2save = c_prev + '/cfg/qda_' + subject + '_lbp_' + day + '.yaml'\n",
    "\n",
    "yaml = YAML()\n",
    "with open(path2save, 'w') as file:\n",
    "    yaml.dump(model_params, file)\n",
    "    \n",
    "print(path2save)"
   ]
  },
  {
   "attachments": {},
   "cell_type": "markdown",
   "metadata": {},
   "source": [
    "# LDA"
   ]
  },
  {
   "cell_type": "code",
   "execution_count": 45,
   "metadata": {},
   "outputs": [
    {
     "name": "stdout",
     "output_type": "stream",
     "text": [
      "Results:  {'mean_fit_time': array([0.0542345 , 0.04525089, 0.0238028 , 0.02304745]), 'std_fit_time': array([0.00919783, 0.00312713, 0.0028829 , 0.00465757]), 'mean_score_time': array([0.00233641, 0.00176506, 0.00179815, 0.00155025]), 'std_score_time': array([0.00060273, 0.00020176, 0.00022362, 0.00028478]), 'param_shrinkage': masked_array(data=['auto', 'auto', None, None],\n",
      "             mask=[False, False, False, False],\n",
      "       fill_value='?',\n",
      "            dtype=object), 'param_solver': masked_array(data=['lsqr', 'eigen', 'lsqr', 'eigen'],\n",
      "             mask=[False, False, False, False],\n",
      "       fill_value='?',\n",
      "            dtype=object), 'params': [{'shrinkage': 'auto', 'solver': 'lsqr'}, {'shrinkage': 'auto', 'solver': 'eigen'}, {'shrinkage': None, 'solver': 'lsqr'}, {'shrinkage': None, 'solver': 'eigen'}], 'split0_test_score': array([0.80234375, 0.80234375, 0.80253906, 0.80253906]), 'split1_test_score': array([0.63398438, 0.63398438, 0.63398438, 0.63398438]), 'split2_test_score': array([0.6609375, 0.6609375, 0.6609375, 0.6609375]), 'split3_test_score': array([0.62929687, 0.62929687, 0.62890625, 0.62890625]), 'split4_test_score': array([0.65859375, 0.65859375, 0.65859375, 0.65859375]), 'mean_test_score': array([0.67703125, 0.67703125, 0.67699219, 0.67699219]), 'std_test_score': array([0.06392774, 0.06392774, 0.06406279, 0.06406279]), 'rank_test_score': array([1, 1, 3, 3], dtype=int32)}\n",
      "Best parameters found:  {'shrinkage': 'auto', 'solver': 'lsqr'}\n",
      "Best score found:  0.6770312500000001\n",
      "Accuracy train: 0.68703125\n",
      "Accuracy test:  0.68703125\n",
      "Accuracy all:   0.68703125\n",
      "Accuracy all:   0.68703125\n",
      "Accuracy eval all:   0.466875\n"
     ]
    }
   ],
   "source": [
    "param_grid = {'solver': [ 'lsqr', 'eigen'], 'shrinkage': ['auto', None]}\n",
    "\n",
    "#grid_search = GridSearchCV(estimator=LinearDiscriminantAnalysis(), param_grid=param_grid, cv=5, n_jobs=-1, verbose=3).fit(X_train, y_train)\n",
    "grid_search = GridSearchCV(estimator=LinearDiscriminantAnalysis(), param_grid=param_grid, cv=5, n_jobs=-1).fit(X_train_calib, y_train_calib)\n",
    "\n",
    "print(\"Results: \", grid_search.cv_results_)\n",
    "print(\"Best parameters found: \", grid_search.best_params_)\n",
    "print(\"Best score found: \", grid_search.best_score_)\n",
    "\n",
    "model_lda = LinearDiscriminantAnalysis(solver=grid_search.best_params_['solver'], shrinkage=grid_search.best_params_['shrinkage'])\n",
    "model_lda.fit(X_train_calib, y_train_calib)\n",
    "\n",
    "print(f'Accuracy train: {model_lda.score(X_train_calib, y_train_calib)}')\n",
    "print(f'Accuracy test:  {model_lda.score(X_test_calib, y_test_calib)}')\n",
    "print(f'Accuracy all:   {model_lda.score(X_calib, y_calib)}')\n",
    "\n",
    "model_lda = LinearDiscriminantAnalysis(solver=grid_search.best_params_['solver'], shrinkage=grid_search.best_params_['shrinkage'])\n",
    "model_lda.fit(X_calib, y_calib)\n",
    "print(f'Accuracy all:   {model_lda.score(X_calib, y_calib)}')\n",
    "print(f'Accuracy eval all:   {model_lda.score(X_eval, y_eval)}')"
   ]
  },
  {
   "attachments": {},
   "cell_type": "markdown",
   "metadata": {},
   "source": [
    "## SVM"
   ]
  },
  {
   "cell_type": "code",
   "execution_count": 46,
   "metadata": {},
   "outputs": [],
   "source": [
    "#from sklearn.svm import SVC\n",
    "from cuml.svm import SVC  # Import cuML's GPU-accelerated SVM\n",
    "from cuml.model_selection import GridSearchCV  # GPU-based GridSearchCV\n",
    "\n",
    "param_grid = {'kernel': [1.0 * RBF(length_scale=1.0), 2.0 * RBF(length_scale=1.0), 3.0 * RBF(length_scale=1.0), 2.0 * RBF(length_scale=2.0)],\n",
    "              'C' : np.logspace(-2, 4, 3),\n",
    "              'gamma' : np.logspace(-9, 3, 3)}\n",
    "\n",
    "grid_search = GridSearchCV(estimator=SVC(), param_grid=param_grid, cv=5, n_jobs=-1).fit(X_train_calib, y_train_calib)\n",
    "#grid_search = GridSearchCV(estimator=SVC(), param_grid=param_grid, cv=cv, n_jobs=-1, verbose=3).fit(X_train, y_train)\n",
    "\n",
    "print(\"The best parameters are %s with a score of %0.4f\" % (grid_search.best_params_, grid_search.best_score_))\n",
    "\n",
    "svm = SVC(kernel=grid_search.best_params_['kernel'], C=grid_search.best_params_['C'], gamma=grid_search.best_params_['gamma'], probability=True)\n",
    "svm.fit(X_train_calib, y_train_calib)\n",
    "print(f'Accuracy train: {svm.score(X_train_calib, y_train_calib)}')\n",
    "print(f'Accuracy test:  {svm.score(X_test_calib, y_test_calib)}')\n",
    "print(f'Accuracy all:   {svm.score(X_calib, y_calib)}')\n",
    "print(f'Accuracy all:   {svm.score(X_eval, y_eval)}')"
   ]
  },
  {
   "attachments": {},
   "cell_type": "markdown",
   "metadata": {},
   "source": [
    "## Gaussian"
   ]
  },
  {
   "cell_type": "code",
   "execution_count": 11,
   "metadata": {},
   "outputs": [
    {
     "name": "stdout",
     "output_type": "stream",
     "text": [
      "Fitting 3 folds for each of 2 candidates, totalling 6 fits\n"
     ]
    }
   ],
   "source": [
    "from sklearn.gaussian_process import GaussianProcessClassifier\n",
    "param_grid = {'kernel': [1.0 * RBF(length_scale=1.0), \n",
    "                         1.0 * Matern(length_scale=1.0, nu=1.5)]}\n",
    "#grid_search = GridSearchCV(estimator=GaussianProcessClassifier(), param_grid=param_grid, cv=5, n_jobs=-1, verbose=3).fit(X_train, y_train)\n",
    "grid_search = GridSearchCV(estimator=GaussianProcessClassifier(), param_grid=param_grid, cv=3, n_jobs=-1, verbose=3).fit(X_train_calib, y_train_calib)\n",
    "\n",
    "print(\"Results: \", grid_search.cv_results_)\n",
    "print(\"Best parameters found: \", grid_search.best_params_)\n",
    "print(\"Best score found: \", grid_search.best_score_)\n",
    "\n",
    "model_gaussian = GaussianProcessClassifier(kernel=grid_search.best_params_['kernel'])\n",
    "model_gaussian.fit(X_train_calib, y_train_calib)\n",
    "\n",
    "print(f'Accuracy train: {model_gaussian.score(X_train_calib, y_train_calib)}')\n",
    "print(f'Accuracy test:  {model_gaussian.score(X_test_calib, y_test_calib)}')\n",
    "print(f'Accuracy all:   {model_gaussian.score(X_calib, y_calib)}')\n",
    "print(f'Accuracy all:   {model_gaussian.score(X_eval, y_eval)}')"
   ]
  },
  {
   "attachments": {},
   "cell_type": "markdown",
   "metadata": {},
   "source": [
    "## random forest"
   ]
  },
  {
   "cell_type": "code",
   "execution_count": null,
   "metadata": {},
   "outputs": [],
   "source": [
    "from sklearn.model_selection import RandomizedSearchCV\n",
    "from scipy.stats import randint\n",
    "\n",
    "model_rF = RandomForestClassifier()\n",
    "\n",
    "param_dist = {'n_estimators': randint(0, 500), 'max_depth': randint(1, X.shape[1])}\n",
    "#rand_search = RandomizedSearchCV(model_rF, param_distributions= param_dist, n_iter=15, cv=5, verbose=3).fit(X_train, y_train)\n",
    "rand_search = RandomizedSearchCV(model_rF, param_distributions= param_dist, n_iter=15, cv=5).fit(X_train_calib, y_train_calib)\n",
    "\n",
    "#print(rand_search.cv_results_)\n",
    "#print('Best hyperparameters:', rand_search.best_params_)\n",
    "print('Best score:', rand_search.best_score_)\n",
    "\n",
    "model_rF = rand_search.best_estimator_\n",
    "model_rF.fit(X_train_calib, y_train_calib)  \n",
    "\n",
    "print(f'Accuracy train: {model_rF.score(X_train_calib, y_train_calib)}')\n",
    "print(f'Accuracy test:  {model_rF.score(X_test_calib, y_test_calib)}')\n",
    "print(f'Accuracy all:   {model_rF.score(X_calib, y_calib)}')\n",
    "print(f'Accuracy all:   {model_rF.score(X_eval, y_eval)}')"
   ]
  }
 ],
 "metadata": {
  "kernelspec": {
   "display_name": "Python 3",
   "language": "python",
   "name": "python3"
  },
  "language_info": {
   "codemirror_mode": {
    "name": "ipython",
    "version": 3
   },
   "file_extension": ".py",
   "mimetype": "text/x-python",
   "name": "python",
   "nbconvert_exporter": "python",
   "pygments_lexer": "ipython3",
   "version": "3.8.10"
  },
  "orig_nbformat": 4
 },
 "nbformat": 4,
 "nbformat_minor": 2
}
